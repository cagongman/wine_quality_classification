{
 "cells": [
  {
   "cell_type": "markdown",
   "metadata": {
    "id": "mUOHPvN5Gupo"
   },
   "source": [
    "# 데이터 준비"
   ]
  },
  {
   "cell_type": "code",
   "execution_count": null,
   "metadata": {
    "colab": {
     "base_uri": "https://localhost:8080/"
    },
    "id": "Bb5JEZI3XHV1",
    "outputId": "722d5764-5f8b-44c9-cbd3-74d97eeb4927"
   },
   "outputs": [
    {
     "name": "stdout",
     "output_type": "stream",
     "text": [
      "/content/drive/MyDrive/데이터마이닝\n"
     ]
    }
   ],
   "source": [
    "%cd /content/drive/MyDrive/데이터마이닝/"
   ]
  },
  {
   "cell_type": "code",
   "execution_count": null,
   "metadata": {
    "colab": {
     "base_uri": "https://localhost:8080/",
     "height": 206
    },
    "id": "zpspnZd6WWFo",
    "outputId": "1afc016c-182a-4f81-d73a-75253b9106a3"
   },
   "outputs": [
    {
     "data": {
      "text/html": [
       "\n",
       "  <div id=\"df-c553217c-4a49-4203-94c9-81caac652fb7\">\n",
       "    <div class=\"colab-df-container\">\n",
       "      <div>\n",
       "<style scoped>\n",
       "    .dataframe tbody tr th:only-of-type {\n",
       "        vertical-align: middle;\n",
       "    }\n",
       "\n",
       "    .dataframe tbody tr th {\n",
       "        vertical-align: top;\n",
       "    }\n",
       "\n",
       "    .dataframe thead th {\n",
       "        text-align: right;\n",
       "    }\n",
       "</style>\n",
       "<table border=\"1\" class=\"dataframe\">\n",
       "  <thead>\n",
       "    <tr style=\"text-align: right;\">\n",
       "      <th></th>\n",
       "      <th>fixed acidity</th>\n",
       "      <th>volatile acidity</th>\n",
       "      <th>citric acid</th>\n",
       "      <th>residual sugar</th>\n",
       "      <th>chlorides</th>\n",
       "      <th>free sulfur dioxide</th>\n",
       "      <th>total sulfur dioxide</th>\n",
       "      <th>density</th>\n",
       "      <th>pH</th>\n",
       "      <th>sulphates</th>\n",
       "      <th>alcohol</th>\n",
       "      <th>white wine</th>\n",
       "      <th>red wine</th>\n",
       "    </tr>\n",
       "  </thead>\n",
       "  <tbody>\n",
       "    <tr>\n",
       "      <th>0</th>\n",
       "      <td>0.214876</td>\n",
       "      <td>0.153333</td>\n",
       "      <td>0.168675</td>\n",
       "      <td>0.013804</td>\n",
       "      <td>0.046589</td>\n",
       "      <td>0.038194</td>\n",
       "      <td>0.260369</td>\n",
       "      <td>0.092346</td>\n",
       "      <td>0.456693</td>\n",
       "      <td>0.162921</td>\n",
       "      <td>0.347826</td>\n",
       "      <td>1.0</td>\n",
       "      <td>0.0</td>\n",
       "    </tr>\n",
       "    <tr>\n",
       "      <th>1</th>\n",
       "      <td>0.702479</td>\n",
       "      <td>0.280000</td>\n",
       "      <td>0.295181</td>\n",
       "      <td>0.024540</td>\n",
       "      <td>0.133111</td>\n",
       "      <td>0.013889</td>\n",
       "      <td>0.018433</td>\n",
       "      <td>0.252362</td>\n",
       "      <td>0.354331</td>\n",
       "      <td>0.123596</td>\n",
       "      <td>0.231884</td>\n",
       "      <td>0.0</td>\n",
       "      <td>1.0</td>\n",
       "    </tr>\n",
       "    <tr>\n",
       "      <th>2</th>\n",
       "      <td>0.363636</td>\n",
       "      <td>0.086667</td>\n",
       "      <td>0.289157</td>\n",
       "      <td>0.012270</td>\n",
       "      <td>0.053245</td>\n",
       "      <td>0.034722</td>\n",
       "      <td>0.214286</td>\n",
       "      <td>0.167534</td>\n",
       "      <td>0.338583</td>\n",
       "      <td>0.196629</td>\n",
       "      <td>0.275362</td>\n",
       "      <td>1.0</td>\n",
       "      <td>0.0</td>\n",
       "    </tr>\n",
       "    <tr>\n",
       "      <th>3</th>\n",
       "      <td>0.256198</td>\n",
       "      <td>0.040000</td>\n",
       "      <td>0.228916</td>\n",
       "      <td>0.006135</td>\n",
       "      <td>0.053245</td>\n",
       "      <td>0.072917</td>\n",
       "      <td>0.172811</td>\n",
       "      <td>0.064006</td>\n",
       "      <td>0.228346</td>\n",
       "      <td>0.179775</td>\n",
       "      <td>0.492754</td>\n",
       "      <td>1.0</td>\n",
       "      <td>0.0</td>\n",
       "    </tr>\n",
       "    <tr>\n",
       "      <th>4</th>\n",
       "      <td>0.264463</td>\n",
       "      <td>0.053333</td>\n",
       "      <td>0.192771</td>\n",
       "      <td>0.118098</td>\n",
       "      <td>0.059900</td>\n",
       "      <td>0.128472</td>\n",
       "      <td>0.276498</td>\n",
       "      <td>0.167534</td>\n",
       "      <td>0.370079</td>\n",
       "      <td>0.067416</td>\n",
       "      <td>0.173913</td>\n",
       "      <td>1.0</td>\n",
       "      <td>0.0</td>\n",
       "    </tr>\n",
       "  </tbody>\n",
       "</table>\n",
       "</div>\n",
       "      <button class=\"colab-df-convert\" onclick=\"convertToInteractive('df-c553217c-4a49-4203-94c9-81caac652fb7')\"\n",
       "              title=\"Convert this dataframe to an interactive table.\"\n",
       "              style=\"display:none;\">\n",
       "        \n",
       "  <svg xmlns=\"http://www.w3.org/2000/svg\" height=\"24px\"viewBox=\"0 0 24 24\"\n",
       "       width=\"24px\">\n",
       "    <path d=\"M0 0h24v24H0V0z\" fill=\"none\"/>\n",
       "    <path d=\"M18.56 5.44l.94 2.06.94-2.06 2.06-.94-2.06-.94-.94-2.06-.94 2.06-2.06.94zm-11 1L8.5 8.5l.94-2.06 2.06-.94-2.06-.94L8.5 2.5l-.94 2.06-2.06.94zm10 10l.94 2.06.94-2.06 2.06-.94-2.06-.94-.94-2.06-.94 2.06-2.06.94z\"/><path d=\"M17.41 7.96l-1.37-1.37c-.4-.4-.92-.59-1.43-.59-.52 0-1.04.2-1.43.59L10.3 9.45l-7.72 7.72c-.78.78-.78 2.05 0 2.83L4 21.41c.39.39.9.59 1.41.59.51 0 1.02-.2 1.41-.59l7.78-7.78 2.81-2.81c.8-.78.8-2.07 0-2.86zM5.41 20L4 18.59l7.72-7.72 1.47 1.35L5.41 20z\"/>\n",
       "  </svg>\n",
       "      </button>\n",
       "      \n",
       "  <style>\n",
       "    .colab-df-container {\n",
       "      display:flex;\n",
       "      flex-wrap:wrap;\n",
       "      gap: 12px;\n",
       "    }\n",
       "\n",
       "    .colab-df-convert {\n",
       "      background-color: #E8F0FE;\n",
       "      border: none;\n",
       "      border-radius: 50%;\n",
       "      cursor: pointer;\n",
       "      display: none;\n",
       "      fill: #1967D2;\n",
       "      height: 32px;\n",
       "      padding: 0 0 0 0;\n",
       "      width: 32px;\n",
       "    }\n",
       "\n",
       "    .colab-df-convert:hover {\n",
       "      background-color: #E2EBFA;\n",
       "      box-shadow: 0px 1px 2px rgba(60, 64, 67, 0.3), 0px 1px 3px 1px rgba(60, 64, 67, 0.15);\n",
       "      fill: #174EA6;\n",
       "    }\n",
       "\n",
       "    [theme=dark] .colab-df-convert {\n",
       "      background-color: #3B4455;\n",
       "      fill: #D2E3FC;\n",
       "    }\n",
       "\n",
       "    [theme=dark] .colab-df-convert:hover {\n",
       "      background-color: #434B5C;\n",
       "      box-shadow: 0px 1px 3px 1px rgba(0, 0, 0, 0.15);\n",
       "      filter: drop-shadow(0px 1px 2px rgba(0, 0, 0, 0.3));\n",
       "      fill: #FFFFFF;\n",
       "    }\n",
       "  </style>\n",
       "\n",
       "      <script>\n",
       "        const buttonEl =\n",
       "          document.querySelector('#df-c553217c-4a49-4203-94c9-81caac652fb7 button.colab-df-convert');\n",
       "        buttonEl.style.display =\n",
       "          google.colab.kernel.accessAllowed ? 'block' : 'none';\n",
       "\n",
       "        async function convertToInteractive(key) {\n",
       "          const element = document.querySelector('#df-c553217c-4a49-4203-94c9-81caac652fb7');\n",
       "          const dataTable =\n",
       "            await google.colab.kernel.invokeFunction('convertToInteractive',\n",
       "                                                     [key], {});\n",
       "          if (!dataTable) return;\n",
       "\n",
       "          const docLinkHtml = 'Like what you see? Visit the ' +\n",
       "            '<a target=\"_blank\" href=https://colab.research.google.com/notebooks/data_table.ipynb>data table notebook</a>'\n",
       "            + ' to learn more about interactive tables.';\n",
       "          element.innerHTML = '';\n",
       "          dataTable['output_type'] = 'display_data';\n",
       "          await google.colab.output.renderOutput(dataTable, element);\n",
       "          const docLink = document.createElement('div');\n",
       "          docLink.innerHTML = docLinkHtml;\n",
       "          element.appendChild(docLink);\n",
       "        }\n",
       "      </script>\n",
       "    </div>\n",
       "  </div>\n",
       "  "
      ],
      "text/plain": [
       "   fixed acidity  volatile acidity  citric acid  residual sugar  chlorides  \\\n",
       "0       0.214876          0.153333     0.168675        0.013804   0.046589   \n",
       "1       0.702479          0.280000     0.295181        0.024540   0.133111   \n",
       "2       0.363636          0.086667     0.289157        0.012270   0.053245   \n",
       "3       0.256198          0.040000     0.228916        0.006135   0.053245   \n",
       "4       0.264463          0.053333     0.192771        0.118098   0.059900   \n",
       "\n",
       "   free sulfur dioxide  total sulfur dioxide   density        pH  sulphates  \\\n",
       "0             0.038194              0.260369  0.092346  0.456693   0.162921   \n",
       "1             0.013889              0.018433  0.252362  0.354331   0.123596   \n",
       "2             0.034722              0.214286  0.167534  0.338583   0.196629   \n",
       "3             0.072917              0.172811  0.064006  0.228346   0.179775   \n",
       "4             0.128472              0.276498  0.167534  0.370079   0.067416   \n",
       "\n",
       "    alcohol  white wine  red wine  \n",
       "0  0.347826         1.0       0.0  \n",
       "1  0.231884         0.0       1.0  \n",
       "2  0.275362         1.0       0.0  \n",
       "3  0.492754         1.0       0.0  \n",
       "4  0.173913         1.0       0.0  "
      ]
     },
     "execution_count": 97,
     "metadata": {},
     "output_type": "execute_result"
    }
   ],
   "source": [
    "import pandas as pd\n",
    "x_train, x_test, y_train, y_test = pd.read_csv(\"data/x_train.csv\"), pd.read_csv(\"data/x_test.csv\"), pd.read_csv(\"data/y_train.csv\"), pd.read_csv(\"data/y_test.csv\")\n",
    "\n",
    "# x_train['type'] = x_train['white wine'] + x_train['red wine']\n",
    "# x_test['type'] = x_test['white wine'] + x_test['red wine']\n",
    "\n",
    "# x_train = x_train.drop(['white wine', 'red wine'], axis=1)\n",
    "# x_test = x_test.drop(['white wine', 'red wine'], axis=1)\n",
    "\n",
    "x_train.head()\n"
   ]
  },
  {
   "cell_type": "markdown",
   "metadata": {
    "id": "ovNatgyvGyYJ"
   },
   "source": [
    "# Multi linear regression"
   ]
  },
  {
   "cell_type": "code",
   "execution_count": null,
   "metadata": {
    "colab": {
     "base_uri": "https://localhost:8080/"
    },
    "id": "Ljdseyv3XkuD",
    "outputId": "18bea096-e2c9-4f81-af04-efc0c2d45f65"
   },
   "outputs": [
    {
     "data": {
      "text/plain": [
       "LinearRegression()"
      ]
     },
     "execution_count": 98,
     "metadata": {},
     "output_type": "execute_result"
    }
   ],
   "source": [
    "from sklearn.linear_model import LinearRegression\n",
    "mlr = LinearRegression()\n",
    "mlr.fit(x_train, y_train) "
   ]
  },
  {
   "cell_type": "code",
   "execution_count": null,
   "metadata": {
    "id": "T4r_2X_3XvI-"
   },
   "outputs": [],
   "source": [
    "y_predict = mlr.predict(x_test)"
   ]
  },
  {
   "cell_type": "code",
   "execution_count": null,
   "metadata": {
    "colab": {
     "base_uri": "https://localhost:8080/"
    },
    "id": "_B0sOQlCX8qt",
    "outputId": "e7c34b3a-e300-4f64-ea8c-15ac53e76868"
   },
   "outputs": [
    {
     "data": {
      "text/plain": [
       "array([[6.59109989],\n",
       "       [5.50229495],\n",
       "       [5.54323615],\n",
       "       ...,\n",
       "       [6.18804797],\n",
       "       [6.79666078],\n",
       "       [5.23733973]])"
      ]
     },
     "execution_count": 100,
     "metadata": {},
     "output_type": "execute_result"
    }
   ],
   "source": [
    "y_predict"
   ]
  },
  {
   "cell_type": "code",
   "execution_count": null,
   "metadata": {
    "colab": {
     "base_uri": "https://localhost:8080/"
    },
    "id": "1OeY8AGkVOxd",
    "outputId": "cadbba7c-2b7a-4b57-e436-5eebc0491b1d"
   },
   "outputs": [
    {
     "data": {
      "text/plain": [
       "0.5247251041700092"
      ]
     },
     "execution_count": 101,
     "metadata": {},
     "output_type": "execute_result"
    }
   ],
   "source": [
    "from sklearn.metrics import mean_squared_error\n",
    "trainerr = mean_squared_error(y_train,mlr.predict(x_train))\n",
    "trainerr"
   ]
  },
  {
   "cell_type": "code",
   "execution_count": null,
   "metadata": {
    "colab": {
     "base_uri": "https://localhost:8080/"
    },
    "id": "Je3EO_6qUSYD",
    "outputId": "1d90c919-273a-47f4-f8ef-659ed7428639"
   },
   "outputs": [
    {
     "data": {
      "text/plain": [
       "0.5611928501843293"
      ]
     },
     "execution_count": 102,
     "metadata": {},
     "output_type": "execute_result"
    }
   ],
   "source": [
    "from sklearn.metrics import mean_squared_error\n",
    "testerr = mean_squared_error(y_test,y_predict)\n",
    "testerr"
   ]
  },
  {
   "cell_type": "code",
   "execution_count": null,
   "metadata": {
    "colab": {
     "base_uri": "https://localhost:8080/"
    },
    "id": "Pu6Q0F59YCnP",
    "outputId": "6d831ac5-4534-4f04-91f3-5a66d9d4c7c6"
   },
   "outputs": [
    {
     "name": "stdout",
     "output_type": "stream",
     "text": [
      "[[ 1.48455914 -2.29932129 -0.28592815  4.72957881 -0.17654695  1.33894235\n",
      "  -0.43706874 -6.74264724  0.91571868  1.45474831  1.34077005 -0.18235859\n",
      "   0.18235859]]\n"
     ]
    }
   ],
   "source": [
    "print(mlr.coef_)"
   ]
  },
  {
   "cell_type": "code",
   "execution_count": null,
   "metadata": {
    "colab": {
     "base_uri": "https://localhost:8080/"
    },
    "id": "McB7BMraYPPZ",
    "outputId": "72f023bb-8f36-4000-d615-57e64179734e"
   },
   "outputs": [
    {
     "name": "stdout",
     "output_type": "stream",
     "text": [
      "0.3036759712400776\n"
     ]
    }
   ],
   "source": [
    "print(mlr.score(x_train, y_train))"
   ]
  },
  {
   "cell_type": "code",
   "execution_count": null,
   "metadata": {
    "colab": {
     "base_uri": "https://localhost:8080/"
    },
    "id": "j8fusbcFRBxe",
    "outputId": "5feb0788-4eaf-4491-dcea-1923840211f5"
   },
   "outputs": [
    {
     "name": "stdout",
     "output_type": "stream",
     "text": [
      "[5.47981352] [[ 1.48455914 -2.29932129 -0.28592815  4.72957881 -0.17654695  1.33894235\n",
      "  -0.43706874 -6.74264724  0.91571868  1.45474831  1.34077005 -0.18235859\n",
      "   0.18235859]] 0.3036759712400776\n"
     ]
    }
   ],
   "source": [
    "print(mlr.intercept_, mlr.coef_, mlr.score(x_train, y_train))"
   ]
  },
  {
   "cell_type": "markdown",
   "metadata": {
    "id": "kA_kSNLuRQlR"
   },
   "source": [
    "## ols 사용"
   ]
  },
  {
   "cell_type": "code",
   "execution_count": null,
   "metadata": {
    "colab": {
     "base_uri": "https://localhost:8080/"
    },
    "id": "nEKtdxUcRP5A",
    "outputId": "1b04602a-8859-474d-f6e0-81701ccabf83"
   },
   "outputs": [
    {
     "name": "stdout",
     "output_type": "stream",
     "text": [
      "                            OLS Regression Results                            \n",
      "==============================================================================\n",
      "Dep. Variable:                quality   R-squared:                       0.304\n",
      "Model:                            OLS   Adj. R-squared:                  0.301\n",
      "Method:                 Least Squares   F-statistic:                     139.3\n",
      "Date:                Wed, 01 Jun 2022   Prob (F-statistic):          2.64e-290\n",
      "Time:                        03:35:40   Log-Likelihood:                -4218.2\n",
      "No. Observations:                3847   AIC:                             8462.\n",
      "Df Residuals:                    3834   BIC:                             8544.\n",
      "Df Model:                          12                                         \n",
      "Covariance Type:            nonrobust                                         \n",
      "========================================================================================\n",
      "                           coef    std err          t      P>|t|      [0.025      0.975]\n",
      "----------------------------------------------------------------------------------------\n",
      "fixed acidity            1.4846      0.259      5.721      0.000       0.976       1.993\n",
      "volatile acidity        -2.2993      0.155    -14.867      0.000      -2.603      -1.996\n",
      "citric acid             -0.2859      0.169     -1.693      0.091      -0.617       0.045\n",
      "residual sugar           4.7296      0.519      9.115      0.000       3.712       5.747\n",
      "chlorides               -0.1765      0.262     -0.673      0.501      -0.691       0.338\n",
      "free sulfur dioxide      1.3389      0.279      4.804      0.000       0.792       1.885\n",
      "total sulfur dioxide    -0.4371      0.182     -2.401      0.016      -0.794      -0.080\n",
      "density                 -6.7426      1.044     -6.458      0.000      -8.790      -4.696\n",
      "pH                       0.9157      0.151      6.074      0.000       0.620       1.211\n",
      "sulphates                1.4547      0.173      8.427      0.000       1.116       1.793\n",
      "alcohol                  1.3408      0.174      7.708      0.000       1.000       1.682\n",
      "white wine               5.2975      0.110     48.246      0.000       5.082       5.513\n",
      "red wine                 5.6622      0.155     36.480      0.000       5.358       5.966\n",
      "==============================================================================\n",
      "Omnibus:                       90.335   Durbin-Watson:                   1.997\n",
      "Prob(Omnibus):                  0.000   Jarque-Bera (JB):              205.418\n",
      "Skew:                          -0.028   Prob(JB):                     2.48e-45\n",
      "Kurtosis:                       4.131   Cond. No.                         113.\n",
      "==============================================================================\n",
      "\n",
      "Warnings:\n",
      "[1] Standard Errors assume that the covariance matrix of the errors is correctly specified.\n"
     ]
    }
   ],
   "source": [
    "#fit linear regression model\n",
    "model = sm.OLS(y_train, x_train).fit()\n",
    "\n",
    "#view model summary\n",
    "print(model.summary())"
   ]
  },
  {
   "cell_type": "markdown",
   "metadata": {
    "id": "v4sC9R2fMD1f"
   },
   "source": [
    "## type 변환"
   ]
  },
  {
   "cell_type": "code",
   "execution_count": null,
   "metadata": {
    "id": "EcOh2e_tMC__"
   },
   "outputs": [],
   "source": [
    "# from sklearn.linear_model import LinearRegression\n",
    "# mlr = LinearRegression()\n",
    "# mlr.fit(x_train, y_train) \n",
    "# y_predict = mlr.predict(x_test)\n",
    "# print(y_predict)\n",
    "# print(mlr.coef_)\n",
    "# print(mlr.score(x_train, y_train))"
   ]
  },
  {
   "cell_type": "markdown",
   "metadata": {
    "id": "DvQDQTrCG2Eb"
   },
   "source": [
    "# 변수 선택"
   ]
  },
  {
   "cell_type": "markdown",
   "metadata": {
    "id": "eSU27IFDG4SG"
   },
   "source": [
    "## forward"
   ]
  },
  {
   "cell_type": "code",
   "execution_count": null,
   "metadata": {
    "colab": {
     "base_uri": "https://localhost:8080/"
    },
    "id": "ZreiS_EoFHYY",
    "outputId": "243d1bff-1be5-4a1d-9d67-c98549303b5b"
   },
   "outputs": [
    {
     "name": "stderr",
     "output_type": "stream",
     "text": [
      "/usr/local/lib/python3.7/dist-packages/ipykernel_launcher.py:18: DeprecationWarning: The default dtype for empty Series will be 'object' instead of 'float64' in a future version. Specify a dtype explicitly to silence this warning.\n",
      "/usr/local/lib/python3.7/dist-packages/statsmodels/tsa/tsatools.py:117: FutureWarning: In a future version of pandas all arguments of concat except for the argument 'objs' will be keyword-only\n",
      "  x = pd.concat(x[::order], 1)\n"
     ]
    }
   ],
   "source": [
    "import pandas as pd\n",
    "import statsmodels.api as sm\n",
    "import matplotlib.pyplot as plt\n",
    "\n",
    "## 전진 선택법\n",
    "variables = x_train.columns.tolist() ## 설명 변수 리스트\n",
    " \n",
    "y = y_train['quality'] ## 반응 변수\n",
    "selected_variables = [] ## 선택된 변수들\n",
    "sl_enter = 0.05\n",
    " \n",
    "sv_per_step = [] ## 각 스텝별로 선택된 변수들\n",
    "adjusted_r_squared = [] ## 각 스텝별 수정된 결정계수\n",
    "steps = [] ## 스텝\n",
    "step = 0\n",
    "while len(variables) > 0:\n",
    "    remainder = list(set(variables) - set(selected_variables))\n",
    "    pval = pd.Series(index=remainder) ## 변수의 p-value\n",
    "    ## 기존에 포함된 변수와 새로운 변수 하나씩 돌아가면서 \n",
    "    ## 선형 모형을 적합한다.\n",
    "    for col in remainder: \n",
    "        X = x_train[selected_variables+[col]]\n",
    "        X = sm.add_constant(X)\n",
    "        model = sm.OLS(y,X).fit()\n",
    "        pval[col] = model.pvalues[col]\n",
    " \n",
    "    min_pval = pval.min()\n",
    "    if min_pval < sl_enter: ## 최소 p-value 값이 기준 값보다 작으면 포함\n",
    "        selected_variables.append(pval.idxmin())\n",
    "        \n",
    "        step += 1\n",
    "        steps.append(step)\n",
    "        adj_r_squared = sm.OLS(y,sm.add_constant(x_train[selected_variables])).fit().rsquared_adj\n",
    "        adjusted_r_squared.append(adj_r_squared)\n",
    "        sv_per_step.append(selected_variables.copy())\n",
    "    else:\n",
    "        break"
   ]
  },
  {
   "cell_type": "code",
   "execution_count": null,
   "metadata": {
    "colab": {
     "base_uri": "https://localhost:8080/"
    },
    "id": "f9ga6o4pFHL1",
    "outputId": "23c2e9a7-b524-4104-c487-53785320d29a"
   },
   "outputs": [
    {
     "data": {
      "text/plain": [
       "['alcohol',\n",
       " 'volatile acidity',\n",
       " 'sulphates',\n",
       " 'residual sugar',\n",
       " 'white wine',\n",
       " 'free sulfur dioxide',\n",
       " 'density',\n",
       " 'red wine',\n",
       " 'pH',\n",
       " 'fixed acidity',\n",
       " 'total sulfur dioxide']"
      ]
     },
     "execution_count": 109,
     "metadata": {},
     "output_type": "execute_result"
    }
   ],
   "source": [
    "selected_variables"
   ]
  },
  {
   "cell_type": "code",
   "execution_count": null,
   "metadata": {
    "colab": {
     "base_uri": "https://localhost:8080/",
     "height": 760
    },
    "id": "1so5wdgXGMRE",
    "outputId": "1fd9865a-d5ae-4ab2-d706-12e9b2a29db2"
   },
   "outputs": [
    {
     "data": {
      "image/png": "[encoded data removed]",
      "text/plain": [
       "<Figure size 2160x720 with 1 Axes>"
      ]
     },
     "metadata": {},
     "output_type": "display_data"
    }
   ],
   "source": [
    "fig = plt.figure(figsize=(30,10))\n",
    "fig.set_facecolor('white')\n",
    " \n",
    "font_size = 15\n",
    "plt.xticks(steps,[f'step {s}\\n'+'\\n'.join(sv_per_step[i]) for i,s in enumerate(steps)], fontsize=12)\n",
    "plt.plot(steps,adjusted_r_squared, marker='o')\n",
    "    \n",
    "plt.ylabel('Adjusted R Squared',fontsize=font_size)\n",
    "plt.grid(True)\n",
    "plt.show()"
   ]
  },
  {
   "cell_type": "markdown",
   "metadata": {
    "id": "5nJ1XBAqG8PE"
   },
   "source": [
    "## backward"
   ]
  },
  {
   "cell_type": "code",
   "execution_count": null,
   "metadata": {
    "colab": {
     "base_uri": "https://localhost:8080/"
    },
    "id": "lpFaJLORF99k",
    "outputId": "fae3bf6e-8c70-4d9d-8d6e-3b090a685ac2"
   },
   "outputs": [
    {
     "name": "stderr",
     "output_type": "stream",
     "text": [
      "/usr/local/lib/python3.7/dist-packages/statsmodels/tsa/tsatools.py:117: FutureWarning: In a future version of pandas all arguments of concat except for the argument 'objs' will be keyword-only\n",
      "  x = pd.concat(x[::order], 1)\n"
     ]
    }
   ],
   "source": [
    "## 후진 소거법\n",
    "variables = x_train.columns.tolist() ## 설명 변수 리스트\n",
    " \n",
    "y = y_train['quality'] ## 반응 변수\n",
    "selected_variables = variables ## 초기에는 모든 변수가 선택된 상태\n",
    "sl_remove = 0.05\n",
    " \n",
    "sv_per_step = [] ## 각 스텝별로 선택된 변수들\n",
    "adjusted_r_squared = [] ## 각 스텝별 수정된 결정계수\n",
    "steps = [] ## 스텝\n",
    "step = 0\n",
    "while len(selected_variables) > 0:\n",
    "    X = sm.add_constant(x_train[selected_variables])\n",
    "    p_vals = sm.OLS(y,X).fit().pvalues[1:] ## 절편항의 p-value는 뺀다\n",
    "    max_pval = p_vals.max() ## 최대 p-value\n",
    "    if max_pval >= sl_remove: ## 최대 p-value값이 기준값보다 크거나 같으면 제외\n",
    "        remove_variable = p_vals.idxmax()\n",
    "        selected_variables.remove(remove_variable)\n",
    " \n",
    "        step += 1\n",
    "        steps.append(step)\n",
    "        adj_r_squared = sm.OLS(y,sm.add_constant(x_train[selected_variables])).fit().rsquared_adj\n",
    "        adjusted_r_squared.append(adj_r_squared)\n",
    "        sv_per_step.append(selected_variables.copy())\n",
    "    else:\n",
    "        break"
   ]
  },
  {
   "cell_type": "code",
   "execution_count": null,
   "metadata": {
    "colab": {
     "base_uri": "https://localhost:8080/"
    },
    "id": "Y5RzUlVWHUbt",
    "outputId": "4d56eab2-5f1e-4748-c39e-d7cd3c6313fb"
   },
   "outputs": [
    {
     "data": {
      "text/plain": [
       "['fixed acidity',\n",
       " 'volatile acidity',\n",
       " 'residual sugar',\n",
       " 'free sulfur dioxide',\n",
       " 'total sulfur dioxide',\n",
       " 'density',\n",
       " 'pH',\n",
       " 'sulphates',\n",
       " 'alcohol',\n",
       " 'red wine']"
      ]
     },
     "execution_count": 112,
     "metadata": {},
     "output_type": "execute_result"
    }
   ],
   "source": [
    "selected_variables\n"
   ]
  },
  {
   "cell_type": "code",
   "execution_count": null,
   "metadata": {
    "colab": {
     "base_uri": "https://localhost:8080/",
     "height": 775
    },
    "id": "VzOSumBFHXkG",
    "outputId": "949c0d3e-bc47-450b-bebd-66bc0af51b65"
   },
   "outputs": [
    {
     "data": {
      "image/png": "[encoded data removed]",
      "text/plain": [
       "<Figure size 720x720 with 1 Axes>"
      ]
     },
     "metadata": {},
     "output_type": "display_data"
    }
   ],
   "source": [
    "fig = plt.figure(figsize=(10,10))\n",
    "fig.set_facecolor('white')\n",
    " \n",
    "font_size = 15\n",
    "plt.xticks(steps,[f'step {s}\\n'+'\\n'.join(sv_per_step[i]) for i,s in enumerate(steps)], fontsize=12)\n",
    "plt.plot(steps,adjusted_r_squared, marker='o')\n",
    "    \n",
    "plt.ylabel('Adjusted R Squared',fontsize=font_size)\n",
    "plt.grid(True)\n",
    "plt.show()"
   ]
  },
  {
   "cell_type": "markdown",
   "metadata": {
    "id": "VgD5_yO3HshR"
   },
   "source": [
    "## stepwise"
   ]
  },
  {
   "cell_type": "code",
   "execution_count": null,
   "metadata": {
    "colab": {
     "base_uri": "https://localhost:8080/"
    },
    "id": "fM_2WBF8Ht9u",
    "outputId": "ccd44fad-16aa-46a9-999b-086f827718c7"
   },
   "outputs": [
    {
     "name": "stderr",
     "output_type": "stream",
     "text": [
      "/usr/local/lib/python3.7/dist-packages/ipykernel_launcher.py:15: DeprecationWarning: The default dtype for empty Series will be 'object' instead of 'float64' in a future version. Specify a dtype explicitly to silence this warning.\n",
      "  from ipykernel import kernelapp as app\n",
      "/usr/local/lib/python3.7/dist-packages/statsmodels/tsa/tsatools.py:117: FutureWarning: In a future version of pandas all arguments of concat except for the argument 'objs' will be keyword-only\n",
      "  x = pd.concat(x[::order], 1)\n"
     ]
    }
   ],
   "source": [
    "## 전진 단계별 선택법\n",
    "variables = x_train.columns.tolist() ## 설명 변수 리스트\n",
    " \n",
    "y = y_train['quality'] ## 반응 변수\n",
    "selected_variables = [] ## 선택된 변수들\n",
    "sl_enter = 0.05\n",
    "sl_remove = 0.05\n",
    " \n",
    "sv_per_step = [] ## 각 스텝별로 선택된 변수들\n",
    "adjusted_r_squared = [] ## 각 스텝별 수정된 결정계수\n",
    "steps = [] ## 스텝\n",
    "step = 0\n",
    "while len(variables) > 0:\n",
    "    remainder = list(set(variables) - set(selected_variables))\n",
    "    pval = pd.Series(index=remainder) ## 변수의 p-value\n",
    "    ## 기존에 포함된 변수와 새로운 변수 하나씩 돌아가면서 \n",
    "    ## 선형 모형을 적합한다.\n",
    "    for col in remainder: \n",
    "        X = x_train[selected_variables+[col]]\n",
    "        X = sm.add_constant(X)\n",
    "        model = sm.OLS(y,X).fit()\n",
    "        pval[col] = model.pvalues[col]\n",
    " \n",
    "    min_pval = pval.min()\n",
    "    if min_pval < sl_enter: ## 최소 p-value 값이 기준 값보다 작으면 포함\n",
    "        selected_variables.append(pval.idxmin())\n",
    "        ## 선택된 변수들에대해서\n",
    "        ## 어떤 변수를 제거할지 고른다.\n",
    "        while len(selected_variables) > 0:\n",
    "            selected_X = x_train[selected_variables]\n",
    "            selected_X = sm.add_constant(selected_X)\n",
    "            selected_pval = sm.OLS(y,selected_X).fit().pvalues[1:] ## 절편항의 p-value는 뺀다\n",
    "            max_pval = selected_pval.max()\n",
    "            if max_pval >= sl_remove: ## 최대 p-value값이 기준값보다 크거나 같으면 제외\n",
    "                remove_variable = selected_pval.idxmax()\n",
    "                selected_variables.remove(remove_variable)\n",
    "            else:\n",
    "                break\n",
    "        \n",
    "        step += 1\n",
    "        steps.append(step)\n",
    "        adj_r_squared = sm.OLS(y,sm.add_constant(x_train[selected_variables])).fit().rsquared_adj\n",
    "        adjusted_r_squared.append(adj_r_squared)\n",
    "        sv_per_step.append(selected_variables.copy())\n",
    "    else:\n",
    "        break"
   ]
  },
  {
   "cell_type": "code",
   "execution_count": null,
   "metadata": {
    "colab": {
     "base_uri": "https://localhost:8080/"
    },
    "id": "4fbslGGaH7rt",
    "outputId": "bec9fc53-cd91-45c8-e2d9-26015412594a"
   },
   "outputs": [
    {
     "data": {
      "text/plain": [
       "['alcohol',\n",
       " 'volatile acidity',\n",
       " 'sulphates',\n",
       " 'residual sugar',\n",
       " 'free sulfur dioxide',\n",
       " 'density',\n",
       " 'red wine',\n",
       " 'pH',\n",
       " 'fixed acidity',\n",
       " 'total sulfur dioxide',\n",
       " 'white wine']"
      ]
     },
     "execution_count": 115,
     "metadata": {},
     "output_type": "execute_result"
    }
   ],
   "source": [
    "selected_variables"
   ]
  },
  {
   "cell_type": "code",
   "execution_count": null,
   "metadata": {
    "colab": {
     "base_uri": "https://localhost:8080/",
     "height": 760
    },
    "id": "YyF9vfGOH7FU",
    "outputId": "fd771b0a-0436-48a1-be14-2f7506cc9b12"
   },
   "outputs": [
    {
     "data": {
      "image/png": "[encoded data removed]",
      "text/plain": [
       "<Figure size 2160x720 with 1 Axes>"
      ]
     },
     "metadata": {},
     "output_type": "display_data"
    }
   ],
   "source": [
    "fig = plt.figure(figsize=(30,10))\n",
    "fig.set_facecolor('white')\n",
    " \n",
    "font_size = 15\n",
    "plt.xticks(steps,[f'step {s}\\n'+'\\n'.join(sv_per_step[i]) for i,s in enumerate(steps)], fontsize=12)\n",
    "plt.plot(steps,adjusted_r_squared, marker='o')\n",
    "    \n",
    "plt.ylabel('Adjusted R Squared',fontsize=font_size)\n",
    "plt.grid(True)\n",
    "plt.show()"
   ]
  },
  {
   "cell_type": "markdown",
   "metadata": {
    "id": "6wUqE4VlIBIR"
   },
   "source": [
    "# 선택된 변수로 multi linear regression"
   ]
  },
  {
   "cell_type": "code",
   "execution_count": null,
   "metadata": {
    "colab": {
     "base_uri": "https://localhost:8080/"
    },
    "id": "uUIDTqJnISsQ",
    "outputId": "1aecb0a3-5de4-4346-d522-e302a35244a8"
   },
   "outputs": [
    {
     "data": {
      "text/plain": [
       "LinearRegression()"
      ]
     },
     "execution_count": 117,
     "metadata": {},
     "output_type": "execute_result"
    }
   ],
   "source": [
    "from sklearn.linear_model import LinearRegression\n",
    "mlr = LinearRegression()\n",
    "mlr.fit(x_train[selected_variables], y_train) "
   ]
  },
  {
   "cell_type": "code",
   "execution_count": null,
   "metadata": {
    "id": "a6AMPqk8Ib4n"
   },
   "outputs": [],
   "source": [
    "y_predict = mlr.predict(x_test[selected_variables])"
   ]
  },
  {
   "cell_type": "code",
   "execution_count": null,
   "metadata": {
    "colab": {
     "base_uri": "https://localhost:8080/"
    },
    "id": "ayr7pq0UIgVf",
    "outputId": "b2975b90-12f2-4713-f660-997bff4b1371"
   },
   "outputs": [
    {
     "data": {
      "text/plain": [
       "array([[6.58838306],\n",
       "       [5.5001386 ],\n",
       "       [5.51035363],\n",
       "       ...,\n",
       "       [6.1907495 ],\n",
       "       [6.78820332],\n",
       "       [5.21359138]])"
      ]
     },
     "execution_count": 119,
     "metadata": {},
     "output_type": "execute_result"
    }
   ],
   "source": [
    "y_predict"
   ]
  },
  {
   "cell_type": "code",
   "execution_count": null,
   "metadata": {
    "colab": {
     "base_uri": "https://localhost:8080/"
    },
    "id": "J0LRBzYBIm4D",
    "outputId": "42b9bb93-45e7-4724-8043-fcab05b9c61a"
   },
   "outputs": [
    {
     "name": "stdout",
     "output_type": "stream",
     "text": [
      "[[ 1.31627333 -2.22958597  1.4192902   4.81142036  1.33432951 -6.92881125\n",
      "   0.18477566  0.95441797  1.41359464 -0.45720582 -0.18477566]]\n"
     ]
    }
   ],
   "source": [
    "print(mlr.coef_)"
   ]
  },
  {
   "cell_type": "code",
   "execution_count": null,
   "metadata": {
    "colab": {
     "base_uri": "https://localhost:8080/"
    },
    "id": "gqNraevEIqf9",
    "outputId": "62340895-ffcf-4dc8-9cbe-bee7fdb90306"
   },
   "outputs": [
    {
     "name": "stdout",
     "output_type": "stream",
     "text": [
      "0.30299101699894593\n"
     ]
    }
   ],
   "source": [
    "print(mlr.score(x_train[selected_variables], y_train))"
   ]
  },
  {
   "cell_type": "markdown",
   "metadata": {
    "id": "QeFicOqtNrPg"
   },
   "source": [
    "# polynomial regression"
   ]
  },
  {
   "cell_type": "code",
   "execution_count": null,
   "metadata": {
    "colab": {
     "base_uri": "https://localhost:8080/"
    },
    "id": "IVcB5FM-Nu-9",
    "outputId": "fe0f06c5-f625-42f3-c046-5106886dfcc8"
   },
   "outputs": [
    {
     "name": "stdout",
     "output_type": "stream",
     "text": [
      "0.39038574749777144\n"
     ]
    }
   ],
   "source": [
    "from sklearn import preprocessing\n",
    "from sklearn.model_selection import train_test_split\n",
    "from sklearn.preprocessing import PolynomialFeatures\n",
    "\n",
    "trans = PolynomialFeatures(degree=2)\n",
    "x_train_poly = trans.fit_transform(x_train)\n",
    "x_test_poly = trans.fit_transform(x_test)\n",
    "\n",
    "lin_reg = LinearRegression()\n",
    "lin_reg.fit(x_train_poly, y_train)\n",
    "\n",
    "y_pred = lin_reg.predict(x_test_poly)\n",
    "print(lin_reg.score(x_train_poly, y_train))"
   ]
  },
  {
   "cell_type": "code",
   "execution_count": null,
   "metadata": {
    "colab": {
     "base_uri": "https://localhost:8080/"
    },
    "id": "Vox92z0EQT0O",
    "outputId": "f2854ae7-4ba3-4bc6-ae2e-6308b5bea4fb"
   },
   "outputs": [
    {
     "data": {
      "text/plain": [
       "array([[6.79882812],\n",
       "       [5.91943359],\n",
       "       [5.56640625],\n",
       "       ...,\n",
       "       [6.10253906],\n",
       "       [7.26855469],\n",
       "       [5.51513672]])"
      ]
     },
     "execution_count": 123,
     "metadata": {},
     "output_type": "execute_result"
    }
   ],
   "source": [
    "y_pred"
   ]
  },
  {
   "cell_type": "code",
   "execution_count": null,
   "metadata": {
    "colab": {
     "base_uri": "https://localhost:8080/"
    },
    "id": "bC0JW3nOU9em",
    "outputId": "3dceaac0-a7f9-4855-cbe4-cf1cd87b8e25"
   },
   "outputs": [
    {
     "data": {
      "text/plain": [
       "0.4593836905462326"
      ]
     },
     "execution_count": 124,
     "metadata": {},
     "output_type": "execute_result"
    }
   ],
   "source": [
    "from sklearn.metrics import mean_squared_error\n",
    "trainerr = mean_squared_error(y_train,lin_reg.predict(x_train_poly))\n",
    "trainerr"
   ]
  },
  {
   "cell_type": "code",
   "execution_count": null,
   "metadata": {
    "colab": {
     "base_uri": "https://localhost:8080/"
    },
    "id": "d4tfyaBqU1we",
    "outputId": "cf0aa1a5-e8d4-40ac-d113-f51180f170f3"
   },
   "outputs": [
    {
     "data": {
      "text/plain": [
       "0.5617647483153153"
      ]
     },
     "execution_count": 125,
     "metadata": {},
     "output_type": "execute_result"
    }
   ],
   "source": [
    "from sklearn.metrics import mean_squared_error\n",
    "testerr = mean_squared_error(y_test,y_predict)\n",
    "testerr"
   ]
  },
  {
   "cell_type": "code",
   "execution_count": null,
   "metadata": {
    "colab": {
     "base_uri": "https://localhost:8080/"
    },
    "id": "zYej1VVUQZjO",
    "outputId": "04ed0778-7754-4275-d736-b45dc193b013"
   },
   "outputs": [
    {
     "name": "stdout",
     "output_type": "stream",
     "text": [
      "[[ 1.42711640e+05 -6.65376069e+11 -3.59081325e+11 -1.81079295e+11\n",
      "   8.08097534e+10  6.41043930e+10 -1.07173167e+11  7.93398603e+09\n",
      "  -3.00976304e+11  1.16205810e+11 -3.78818069e+11  8.82008326e+11\n",
      "  -2.69573330e+12  2.37399054e+12 -5.51690691e+00 -7.28983177e-01\n",
      "   9.73355077e+00 -1.76812077e+01 -1.74195690e+01  1.15631287e+00\n",
      "   2.41595069e+00  1.26664269e+01  1.22057424e+00  6.06709491e+00\n",
      "   1.79976173e+00  6.65376069e+11  6.65376069e+11  1.58702619e-01\n",
      "   9.07307979e-01 -5.96375920e+00 -1.17778700e+00  1.42863810e+00\n",
      "   8.30008584e+00  6.58172607e-01  5.87524414e-01 -9.99481201e-01\n",
      "   5.40895844e+00  3.59081325e+11  3.59081325e+11 -2.76878357e+00\n",
      "   7.24545288e+00  6.54879761e+00  5.82318115e+00 -1.94085693e+00\n",
      "  -2.17583590e+01  5.33395386e+00 -4.07880402e+00 -1.09152222e+00\n",
      "   1.81079295e+11  1.81079295e+11 -3.90716553e+01 -7.27450562e+00\n",
      "  -1.10520973e+01  6.34118652e+00  6.31163254e+01 -1.02848778e+01\n",
      "  -2.58779907e+00  1.19502258e+01 -8.08097534e+10 -8.08097534e+10\n",
      "   3.81896973e-01  6.66124725e+00 -6.79840088e+00  1.89151459e+01\n",
      "  -7.35772705e+00 -7.13815308e+00 -2.67230225e+00 -6.41043930e+10\n",
      "  -6.41043930e+10 -4.72332764e+00 -3.12602234e+00  1.61869202e+01\n",
      "   7.35809326e-01  8.86968994e+00  8.39233398e+00  1.07173167e+11\n",
      "   1.07173167e+11 -2.03597260e+00 -1.41618652e+01  5.30517578e-01\n",
      "  -4.88265991e+00 -2.18078613e+00 -7.93398603e+09 -7.93398603e+09\n",
      "   7.71160126e+00 -1.24864502e+01 -3.58514404e+00 -7.87216187e+00\n",
      "   3.00976304e+11  3.00976304e+11  2.10723877e-02  5.05853271e+00\n",
      "  -1.49731445e+00 -1.16205810e+11 -1.16205810e+11 -2.38464355e-01\n",
      "   1.19894409e+00  3.78818069e+11  3.78818069e+11 -3.07495117e-01\n",
      "  -8.82008326e+11 -8.82008326e+11  7.04663299e+12  0.00000000e+00\n",
      "   1.97690915e+12]]\n"
     ]
    }
   ],
   "source": [
    "print(lin_reg.coef_)"
   ]
  },
  {
   "cell_type": "code",
   "execution_count": null,
   "metadata": {
    "colab": {
     "base_uri": "https://localhost:8080/"
    },
    "id": "y-JS0LU_QgDp",
    "outputId": "d81b1193-7842-4f5f-c25c-ac85f1fa49c6"
   },
   "outputs": [
    {
     "name": "stdout",
     "output_type": "stream",
     "text": [
      "0.39038574749777144\n"
     ]
    }
   ],
   "source": [
    "print(lin_reg.score(x_train_poly, y_train))"
   ]
  },
  {
   "cell_type": "markdown",
   "metadata": {
    "id": "B6QZ5ODTRpON"
   },
   "source": [
    "## ols 사용"
   ]
  },
  {
   "cell_type": "code",
   "execution_count": null,
   "metadata": {
    "colab": {
     "base_uri": "https://localhost:8080/"
    },
    "id": "QJQ-nc79Ro9F",
    "outputId": "df194c97-dd0c-447b-f1fb-bdbc2a2e849e"
   },
   "outputs": [
    {
     "name": "stdout",
     "output_type": "stream",
     "text": [
      "                            OLS Regression Results                            \n",
      "==============================================================================\n",
      "Dep. Variable:                quality   R-squared:                       0.390\n",
      "Model:                            OLS   Adj. R-squared:                  0.376\n",
      "Method:                 Least Squares   F-statistic:                     27.04\n",
      "Date:                Wed, 01 Jun 2022   Prob (F-statistic):               0.00\n",
      "Time:                        03:35:44   Log-Likelihood:                -3962.3\n",
      "No. Observations:                3847   AIC:                             8105.\n",
      "Df Residuals:                    3757   BIC:                             8668.\n",
      "Df Model:                          89                                         \n",
      "Covariance Type:            nonrobust                                         \n",
      "==============================================================================\n",
      "                 coef    std err          t      P>|t|      [0.025      0.975]\n",
      "------------------------------------------------------------------------------\n",
      "const          2.7069      0.420      6.441      0.000       1.883       3.531\n",
      "x1             0.5509      1.651      0.334      0.739      -2.686       3.788\n",
      "x2            -3.6467      1.046     -3.486      0.000      -5.698      -1.596\n",
      "x3            -0.7472      1.283     -0.582      0.560      -3.262       1.768\n",
      "x4             3.4472      3.293      1.047      0.295      -3.010       9.904\n",
      "x5             4.5131      2.463      1.832      0.067      -0.317       9.343\n",
      "x6            -4.1548      2.257     -1.841      0.066      -8.579       0.269\n",
      "x7             1.5738      1.346      1.169      0.242      -1.066       4.213\n",
      "x8            -2.9264      6.282     -0.466      0.641     -15.243       9.390\n",
      "x9             0.9794      1.006      0.973      0.330      -0.994       2.952\n",
      "x10            0.2038      1.331      0.153      0.878      -2.407       2.814\n",
      "x11            0.4782      1.133      0.422      0.673      -1.742       2.699\n",
      "x12            1.4003      0.157      8.895      0.000       1.092       1.709\n",
      "x13            1.3066      0.366      3.574      0.000       0.590       2.023\n",
      "x14           -5.4333      3.007     -1.807      0.071     -11.329       0.463\n",
      "x15           -0.6668      3.296     -0.202      0.840      -7.130       5.796\n",
      "x16            9.6938      3.998      2.425      0.015       1.855      17.533\n",
      "x17          -17.6741     10.811     -1.635      0.102     -38.870       3.522\n",
      "x18          -17.3252      5.278     -3.282      0.001     -27.674      -6.977\n",
      "x19            1.0543      6.190      0.170      0.865     -11.082      13.191\n",
      "x20            2.3789      3.941      0.604      0.546      -5.348      10.106\n",
      "x21           12.6042     19.922      0.633      0.527     -26.456      51.664\n",
      "x22            1.3133      3.640      0.361      0.718      -5.823       8.450\n",
      "x23            5.9719      3.667      1.629      0.103      -1.217      13.161\n",
      "x24            1.7145      3.063      0.560      0.576      -4.292       7.721\n",
      "x25            0.7112      0.756      0.941      0.347      -0.770       2.193\n",
      "x26           -0.1603      1.325     -0.121      0.904      -2.758       2.438\n",
      "x27            0.1641      1.011      0.162      0.871      -1.819       2.147\n",
      "x28            0.8985      2.080      0.432      0.666      -3.179       4.976\n",
      "x29           -5.7820      6.106     -0.947      0.344     -17.754       6.190\n",
      "x30           -1.1638      3.077     -0.378      0.705      -7.196       4.869\n",
      "x31            1.4858      4.408      0.337      0.736      -7.156      10.128\n",
      "x32            8.3858      2.497      3.358      0.001       3.490      13.281\n",
      "x33            0.7528     11.984      0.063      0.950     -22.742      24.248\n",
      "x34            0.5529      1.994      0.277      0.782      -3.357       4.463\n",
      "x35           -1.0050      2.422     -0.415      0.678      -5.754       3.744\n",
      "x36            5.4107      2.021      2.677      0.007       1.448       9.374\n",
      "x37           -3.2608      0.457     -7.132      0.000      -4.157      -2.364\n",
      "x38           -0.3858      0.845     -0.457      0.648      -2.042       1.270\n",
      "x39           -2.6553      1.008     -2.634      0.008      -4.632      -0.679\n",
      "x40            7.4091      7.477      0.991      0.322      -7.250      22.068\n",
      "x41            6.5994      3.273      2.016      0.044       0.182      13.017\n",
      "x42            5.8435      4.040      1.446      0.148      -2.077      13.764\n",
      "x43           -1.9456      2.655     -0.733      0.464      -7.151       3.260\n",
      "x44          -21.8999     16.066     -1.363      0.173     -53.399       9.600\n",
      "x45            5.3447      2.233      2.393      0.017       0.966       9.724\n",
      "x46           -4.0405      2.769     -1.459      0.145      -9.469       1.388\n",
      "x47           -1.1937      2.677     -0.446      0.656      -6.442       4.054\n",
      "x48            0.4139      0.501      0.826      0.409      -0.568       1.396\n",
      "x49           -1.1611      1.110     -1.046      0.296      -3.338       1.015\n",
      "x50          -39.4617     13.517     -2.919      0.004     -65.964     -12.960\n",
      "x51           -7.7328     12.978     -0.596      0.551     -33.178      17.712\n",
      "x52          -11.5115     13.333     -0.863      0.388     -37.653      14.630\n",
      "x53            6.3391      7.840      0.809      0.419      -9.032      21.710\n",
      "x54           64.0696     46.657      1.373      0.170     -27.405     155.544\n",
      "x55          -10.3877      7.017     -1.480      0.139     -24.144       3.369\n",
      "x56           -2.4649      8.042     -0.306      0.759     -18.233      13.303\n",
      "x57           11.9193      6.869      1.735      0.083      -1.547      25.386\n",
      "x58            5.2369      1.470      3.564      0.000       2.356       8.118\n",
      "x59           -1.7897      2.837     -0.631      0.528      -7.352       3.772\n",
      "x60            0.3939      2.155      0.183      0.855      -3.830       4.618\n",
      "x61            6.5699      6.614      0.993      0.321      -6.397      19.537\n",
      "x62           -6.5879      5.255     -1.254      0.210     -16.890       3.714\n",
      "x63           19.0384     23.417      0.813      0.416     -26.874      64.951\n",
      "x64           -7.4104      3.882     -1.909      0.056     -15.021       0.200\n",
      "x65           -7.1314      3.578     -1.993      0.046     -14.147      -0.116\n",
      "x66           -2.5200      4.278     -0.589      0.556     -10.908       5.868\n",
      "x67            1.2213      1.024      1.193      0.233      -0.786       3.229\n",
      "x68            3.2918      2.097      1.570      0.117      -0.819       7.403\n",
      "x69           -4.5182      3.026     -1.493      0.136     -10.452       1.415\n",
      "x70           -3.3677      4.499     -0.748      0.454     -12.189       5.454\n",
      "x71           17.2945     27.188      0.636      0.525     -36.011      70.600\n",
      "x72            0.5982      3.621      0.165      0.869      -6.500       7.697\n",
      "x73            8.6718      4.271      2.030      0.042       0.297      17.046\n",
      "x74            8.5709      4.767      1.798      0.072      -0.776      17.918\n",
      "x75            0.0153      0.827      0.019      0.985      -1.606       1.637\n",
      "x76           -4.1702      1.989     -2.097      0.036      -8.070      -0.271\n",
      "x77           -1.9640      1.813     -1.083      0.279      -5.518       1.590\n",
      "x78          -14.3832     16.021     -0.898      0.369     -45.794      17.028\n",
      "x79            0.5026      2.404      0.209      0.834      -4.211       5.217\n",
      "x80           -4.8489      2.768     -1.752      0.080     -10.275       0.578\n",
      "x81           -2.1914      2.722     -0.805      0.421      -7.529       3.146\n",
      "x82            2.0049      0.614      3.264      0.001       0.801       3.209\n",
      "x83           -0.4311      1.100     -0.392      0.695      -2.588       1.726\n",
      "x84            7.3789     43.002      0.172      0.864     -76.931      91.689\n",
      "x85          -12.3505     13.617     -0.907      0.364     -39.048      14.347\n",
      "x86           -3.7716     15.366     -0.245      0.806     -33.897      26.354\n",
      "x87           -7.6887     12.919     -0.595      0.552     -33.017      17.640\n",
      "x88           -6.6583      2.826     -2.356      0.019     -12.199      -1.118\n",
      "x89            3.7319      5.133      0.727      0.467      -6.331      13.795\n",
      "x90            0.0296      1.257      0.024      0.981      -2.436       2.495\n",
      "x91            5.0601      2.109      2.399      0.016       0.925       9.195\n",
      "x92           -1.5440      2.284     -0.676      0.499      -6.022       2.934\n",
      "x93            1.5225      0.463      3.287      0.001       0.614       2.431\n",
      "x94           -0.5431      0.839     -0.647      0.518      -2.188       1.102\n",
      "x95           -0.1869      1.184     -0.158      0.875      -2.509       2.135\n",
      "x96            1.1966      2.468      0.485      0.628      -3.641       6.034\n",
      "x97           -0.0545      0.574     -0.095      0.924      -1.180       1.071\n",
      "x98            0.2584      1.096      0.236      0.814      -1.890       2.406\n",
      "x99           -0.2674      1.304     -0.205      0.838      -2.825       2.290\n",
      "x100          -0.7276      0.492     -1.479      0.139      -1.692       0.237\n",
      "x101           1.2058      0.897      1.344      0.179      -0.553       2.965\n",
      "x102           1.4003      0.157      8.895      0.000       1.092       1.709\n",
      "x103                0          0        nan        nan           0           0\n",
      "x104           1.3066      0.366      3.574      0.000       0.590       2.023\n",
      "==============================================================================\n",
      "Omnibus:                       60.072   Durbin-Watson:                   1.998\n",
      "Prob(Omnibus):                  0.000   Jarque-Bera (JB):              111.443\n",
      "Skew:                           0.058   Prob(JB):                     6.32e-25\n",
      "Kurtosis:                       3.826   Cond. No.                     1.43e+16\n",
      "==============================================================================\n",
      "\n",
      "Warnings:\n",
      "[1] Standard Errors assume that the covariance matrix of the errors is correctly specified.\n",
      "[2] The smallest eigenvalue is 6.53e-29. This might indicate that there are\n",
      "strong multicollinearity problems or that the design matrix is singular.\n"
     ]
    },
    {
     "name": "stderr",
     "output_type": "stream",
     "text": [
      "/usr/local/lib/python3.7/dist-packages/statsmodels/base/model.py:1294: RuntimeWarning: invalid value encountered in true_divide\n",
      "  return self.params / self.bse\n"
     ]
    }
   ],
   "source": [
    "#fit linear regression model\n",
    "model = sm.OLS(y_train, x_train_poly).fit()\n",
    "\n",
    "#view model summary\n",
    "print(model.summary())"
   ]
  },
  {
   "cell_type": "markdown",
   "metadata": {
    "id": "mNgwE-HfSc7h"
   },
   "source": [
    "# 학습곡선"
   ]
  },
  {
   "cell_type": "code",
   "execution_count": null,
   "metadata": {
    "id": "1EEN1aQLSeyl"
   },
   "outputs": [],
   "source": [
    "from sklearn.metrics import mean_squared_error\n",
    "from sklearn.model_selection import train_test_split\n",
    "import numpy as np\n",
    "\n",
    "def plot_learning_curves(model, X, y):\n",
    "    X_train, X_val, y_train, y_val = train_test_split(X,y, test_size=0.2)\n",
    "    train_errors, val_errors = [], []\n",
    "    for m in range (1, len(X_train)):\n",
    "        model.fit(X_train[:m], y_train[:m])\n",
    "        y_train_predict = model.predict(X_train[:m])\n",
    "        y_val_predict = model.predict(X_val)\n",
    "        train_errors.append(mean_squared_error(y_train[:m], y_train_predict))\n",
    "        val_errors.append(mean_squared_error(y_val, y_val_predict))\n",
    "    plt.plot(np.sqrt(train_errors), \"r-+\", linewidth = 2, label = \"train set\")\n",
    "    plt.plot(np.sqrt(val_errors), \"b-\", linewidth = 3, label = \"validation set\") \n",
    "    plt.xlabel(\"size of train set\")\n",
    "    plt.ylabel(\"RMSE\")\n",
    "    plt.legend()"
   ]
  },
  {
   "cell_type": "code",
   "execution_count": null,
   "metadata": {
    "colab": {
     "base_uri": "https://localhost:8080/",
     "height": 279
    },
    "id": "t-uK_qr7SvMC",
    "outputId": "b00520a1-d279-44da-99d5-dc6fa1e509ad"
   },
   "outputs": [
    {
     "data": {
      "image/png": "[encoded data removed]",
      "text/plain": [
       "<Figure size 432x288 with 1 Axes>"
      ]
     },
     "metadata": {
      "needs_background": "light"
     },
     "output_type": "display_data"
    }
   ],
   "source": [
    "from sklearn.linear_model import LinearRegression\n",
    "\n",
    "lin_reg = LinearRegression()\n",
    "plot_learning_curves(lin_reg, x_train, y_train)"
   ]
  }
 ],
 "metadata": {
  "colab": {
   "collapsed_sections": [],
   "name": "Untitled0.ipynb",
   "provenance": []
  },
  "kernelspec": {
   "display_name": "Python 3 (ipykernel)",
   "language": "python",
   "name": "python3"
  },
  "language_info": {
   "codemirror_mode": {
    "name": "ipython",
    "version": 3
   },
   "file_extension": ".py",
   "mimetype": "text/x-python",
   "name": "python",
   "nbconvert_exporter": "python",
   "pygments_lexer": "ipython3",
   "version": "3.9.7"
  }
 },
 "nbformat": 4,
 "nbformat_minor": 1
}
