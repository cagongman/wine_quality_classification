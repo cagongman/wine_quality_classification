{
 "cells": [
  {
   "cell_type": "code",
   "execution_count": 42,
   "id": "e0c3d4f3",
   "metadata": {},
   "outputs": [],
   "source": [
    "import pandas as pd\n",
    "import numpy as np\n",
    "import seaborn as sns\n",
    "import matplotlib.pyplot as plt\n",
    "import matplotlib\n",
    "from sklearn import preprocessing\n",
    "from sklearn.neighbors import KNeighborsClassifier\n",
    "%matplotlib inline\n",
    "\n",
    "plt.style.use('fivethirtyeight')"
   ]
  },
  {
   "cell_type": "code",
   "execution_count": 43,
   "id": "cd09371e",
   "metadata": {},
   "outputs": [],
   "source": [
    "x_train= pd.read_csv(\"data/x_train.csv\")\n",
    "x_test = pd.read_csv(\"data/x_test.csv\")\n",
    "y_train= pd.read_csv(\"data/y_train.csv\")\n",
    "y_test = pd.read_csv(\"data/y_test.csv\")"
   ]
  },
  {
   "cell_type": "code",
   "execution_count": 44,
   "id": "226e5821",
   "metadata": {},
   "outputs": [],
   "source": [
    "y_train = np.array(y_train).ravel()\n",
    "y_test = np.array(y_test).ravel()"
   ]
  },
  {
   "cell_type": "code",
   "execution_count": 45,
   "id": "cc73422e",
   "metadata": {},
   "outputs": [
    {
     "data": {
      "text/plain": [
       "array([7, 5, 5, ..., 5, 6, 6], dtype=int64)"
      ]
     },
     "execution_count": 45,
     "metadata": {},
     "output_type": "execute_result"
    }
   ],
   "source": [
    "y_train"
   ]
  },
  {
   "cell_type": "markdown",
   "id": "421fb8db",
   "metadata": {},
   "source": [
    "## KNN (K = 3)"
   ]
  },
  {
   "cell_type": "code",
   "execution_count": 64,
   "id": "2f4abe83",
   "metadata": {},
   "outputs": [
    {
     "name": "stdout",
     "output_type": "stream",
     "text": [
      "0.5381818181818182\n"
     ]
    }
   ],
   "source": [
    "#model\n",
    "classifier = KNeighborsClassifier(n_neighbors = 3)\n",
    "classifier.fit(x_train, y_train)\n",
    "\n",
    "# accuracy \n",
    "predict = classifier.predict(x_test)\n",
    "print((predict == y_test).mean())"
   ]
  },
  {
   "cell_type": "markdown",
   "id": "2ea38be0",
   "metadata": {},
   "source": [
    "## KNN (K = 10)"
   ]
  },
  {
   "cell_type": "code",
   "execution_count": 65,
   "id": "e05cfdde",
   "metadata": {},
   "outputs": [
    {
     "name": "stdout",
     "output_type": "stream",
     "text": [
      "0.5557575757575758\n"
     ]
    }
   ],
   "source": [
    "#model\n",
    "classifier = KNeighborsClassifier(n_neighbors = 10)\n",
    "classifier.fit(x_train, y_train)\n",
    "\n",
    "# accuracy \n",
    "predict = classifier.predict(x_test)\n",
    "print((predict == y_test).mean())"
   ]
  },
  {
   "cell_type": "markdown",
   "id": "9391612b",
   "metadata": {},
   "source": [
    "## KNN (K = 50)"
   ]
  },
  {
   "cell_type": "code",
   "execution_count": 68,
   "id": "345cd7af",
   "metadata": {},
   "outputs": [
    {
     "name": "stdout",
     "output_type": "stream",
     "text": [
      "0.5478787878787879\n"
     ]
    }
   ],
   "source": [
    "#model\n",
    "classifier = KNeighborsClassifier(n_neighbors = 50)\n",
    "classifier.fit(x_train, y_train)\n",
    "\n",
    "# accuracy \n",
    "predict = classifier.predict(x_test)\n",
    "print((predict == y_test).mean())"
   ]
  }
 ],
 "metadata": {
  "kernelspec": {
   "display_name": "Python 3",
   "language": "python",
   "name": "python3"
  },
  "language_info": {
   "codemirror_mode": {
    "name": "ipython",
    "version": 3
   },
   "file_extension": ".py",
   "mimetype": "text/x-python",
   "name": "python",
   "nbconvert_exporter": "python",
   "pygments_lexer": "ipython3",
   "version": "3.8.8"
  }
 },
 "nbformat": 4,
 "nbformat_minor": 5
}
