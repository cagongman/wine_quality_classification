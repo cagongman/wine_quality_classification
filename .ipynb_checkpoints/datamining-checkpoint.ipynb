{
 "cells": [
  {
   "cell_type": "code",
   "execution_count": 21,
   "metadata": {
    "id": "qqUoPxdMsOjV"
   },
   "outputs": [],
   "source": [
    "import pandas as pd\n",
    "from sklearn.ensemble import GradientBoostingClassifier\n",
    "from sklearn.linear_model import LogisticRegression\n",
    "from sklearn.model_selection import KFold, cross_val_score"
   ]
  },
  {
   "cell_type": "code",
   "execution_count": 62,
   "metadata": {
    "id": "02cXdQNJoYD_"
   },
   "outputs": [],
   "source": [
    "import pandas as pd\n",
    "import matplotlib.pyplot as plt\n",
    "\n",
    "from sklearn.ensemble import VotingClassifier\n",
    "from sklearn.linear_model import LogisticRegression\n",
    "from sklearn.neighbors import KNeighborsClassifier\n",
    "from sklearn.tree import DecisionTreeClassifier\n",
    "from sklearn.preprocessing import StandardScaler\n",
    "from sklearn.ensemble import BaggingClassifier, RandomForestClassifier\n",
    "from sklearn.model_selection import cross_validate, cross_val_score\n",
    "from sklearn.ensemble import AdaBoostClassifier, GradientBoostingClassifier\n",
    "import sklearn.metrics as metrics\n",
    "\n",
    "from sklearn.datasets import load_breast_cancer,load_wine,load_iris\n",
    "from sklearn.model_selection import train_test_split\n",
    "from sklearn.metrics import accuracy_score\n",
    "from sklearn.pipeline import make_pipeline\n",
    "\n",
    "from warnings import filterwarnings\n",
    "filterwarnings('ignore')"
   ]
  },
  {
   "cell_type": "code",
   "execution_count": 58,
   "metadata": {
    "id": "Sa_5v5gzsHfW"
   },
   "outputs": [],
   "source": [
    "x_train = pd.read_csv('/data/x_train.csv')\n",
    "y_train = pd.read_csv('/data/y_train.csv')\n",
    "x_test = pd.read_csv('/data/x_test.csv')\n",
    "y_test = pd.read_csv('/data/y_test.csv')"
   ]
  },
  {
   "cell_type": "code",
   "execution_count": null,
   "metadata": {
    "id": "aMSOSw2sTqkj"
   },
   "outputs": [],
   "source": [
    "x_train.head()"
   ]
  },
  {
   "cell_type": "code",
   "execution_count": 59,
   "metadata": {
    "id": "CFm9MYN1tHnm"
   },
   "outputs": [],
   "source": [
    "models = []\n",
    "models.append(('GradientBoostingClassifier',GradientBoostingClassifier()))\n",
    "models.append(('LogisticRegression',LogisticRegression(solver = \"liblinear\")))"
   ]
  },
  {
   "cell_type": "code",
   "execution_count": 60,
   "metadata": {
    "id": "Lo2hZ3Xvn2qf"
   },
   "outputs": [],
   "source": [
    "model_logi = LogisticRegression()\n",
    "model_GB = GradientBoostingClassifier()"
   ]
  },
  {
   "cell_type": "code",
   "execution_count": 61,
   "metadata": {
    "id": "gBM4YTxcnuXH"
   },
   "outputs": [],
   "source": [
    "from sklearn.ensemble import VotingClassifier\n",
    "\n",
    "model_vote = VotingClassifier(estimators = [('LogisticRegression',model_logi),\n",
    "                              ('GradientBoostingClassifier',model_GB)],\n",
    "                             voting = 'quality')"
   ]
  },
  {
   "cell_type": "code",
   "execution_count": 64,
   "metadata": {
    "colab": {
     "base_uri": "https://localhost:8080/"
    },
    "id": "57nXUxFXoqnK",
    "outputId": "24ae0bed-7c18-4934-8bc5-87c1d005f03f"
   },
   "outputs": [
    {
     "data": {
      "text/plain": [
       "0.5345454545454545"
      ]
     },
     "execution_count": 64,
     "metadata": {},
     "output_type": "execute_result"
    }
   ],
   "source": [
    "model_logi.fit(x_train,y_train)\n",
    "model_logi.predict(x_test)\n",
    "model_logi.score(x_test,y_test)"
   ]
  },
  {
   "cell_type": "code",
   "execution_count": 66,
   "metadata": {
    "colab": {
     "base_uri": "https://localhost:8080/"
    },
    "id": "SGyQZsTOqf-5",
    "outputId": "e0ed5024-7d94-42a0-9d10-c50a0cf4d536"
   },
   "outputs": [
    {
     "data": {
      "text/plain": [
       "0.573939393939394"
      ]
     },
     "execution_count": 66,
     "metadata": {},
     "output_type": "execute_result"
    }
   ],
   "source": [
    "model_GB.fit(x_train,y_train)\n",
    "model_GB.predict(x_test)\n",
    "model_GB.score(x_test,y_test)"
   ]
  },
  {
   "cell_type": "code",
   "execution_count": 51,
   "metadata": {
    "colab": {
     "base_uri": "https://localhost:8080/"
    },
    "id": "WjvP6pV0odot",
    "outputId": "dc5c627b-cb11-43e1-c895-0333d2c3419b"
   },
   "outputs": [
    {
     "name": "stdout",
     "output_type": "stream",
     "text": [
      "LogisticRegression()\n",
      "GradientBoostingClassifier()\n"
     ]
    }
   ],
   "source": [
    "print(model_logi)\n",
    "print(model_GB)"
   ]
  },
  {
   "cell_type": "code",
   "execution_count": 65,
   "metadata": {
    "colab": {
     "base_uri": "https://localhost:8080/"
    },
    "id": "HX800fBLtfu9",
    "outputId": "75bdc38c-f8e4-4fbb-afd7-39d4bb5ad86b"
   },
   "outputs": [
    {
     "name": "stdout",
     "output_type": "stream",
     "text": [
      "GradientBoostingClassifier 0.5749967068042491 0.016565692308428494\n",
      "LogisticRegression 0.5344461520274264 0.020660085864855564\n"
     ]
    }
   ],
   "source": [
    "results  = []\n",
    "names = []\n",
    "\n",
    "for name, model in models :\n",
    "    kfold = KFold(n_splits= 5, random_state=13, shuffle=True)\n",
    "    cv_results = cross_val_score(model, x_train, y_train, cv=kfold, scoring='accuracy')\n",
    "    \n",
    "    results.append(cv_results)\n",
    "    names.append(name)\n",
    "    \n",
    "    print(name, cv_results.mean(), cv_results.std())"
   ]
  },
  {
   "cell_type": "code",
   "execution_count": 67,
   "metadata": {
    "colab": {
     "base_uri": "https://localhost:8080/",
     "height": 540
    },
    "id": "eJIpX9qzr9-F",
    "outputId": "808276cf-110b-469c-bb01-563344ae4ca4"
   },
   "outputs": [
    {
     "data": {
      "image/png": "[encoded data removed]",
      "text/plain": [
       "<Figure size 1008x576 with 1 Axes>"
      ]
     },
     "metadata": {
      "needs_background": "light"
     },
     "output_type": "display_data"
    }
   ],
   "source": [
    "fig = plt.figure(figsize=(14,8))\n",
    "fig.suptitle('Algorithm Comparison')\n",
    "ax = fig.add_subplot(111)\n",
    "plt.boxplot(results)\n",
    "ax.set_xticklabels(names)\n",
    "plt.show()"
   ]
  }
 ],
 "metadata": {
  "colab": {
   "name": "datamining.ipynb",
   "provenance": []
  },
  "kernelspec": {
   "display_name": "Python 3 (ipykernel)",
   "language": "python",
   "name": "python3"
  },
  "language_info": {
   "codemirror_mode": {
    "name": "ipython",
    "version": 3
   },
   "file_extension": ".py",
   "mimetype": "text/x-python",
   "name": "python",
   "nbconvert_exporter": "python",
   "pygments_lexer": "ipython3",
   "version": "3.9.7"
  }
 },
 "nbformat": 4,
 "nbformat_minor": 1
}
